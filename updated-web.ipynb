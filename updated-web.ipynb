{
 "cells": [
  {
   "cell_type": "code",
   "execution_count": 3,
   "id": "8c767154",
   "metadata": {},
   "outputs": [
    {
     "name": "stdout",
     "output_type": "stream",
     "text": [
      "['Acer Extensa 15 Lightweight Laptop Intel Core i5 11th Gen Processor - (8 GB/ 512 GB SSD/ Windows 11', 'Amazon Customer', 'ajith', 'Deepak', 'Dinesh prajapati', 'Hari Narayan Jha', 'Sahitya katiyar', 'Sahitya katiyar', 'Daljit Kaur', 'Daljit Kaur', 'Antony H.', 'Amazon Customer']\n"
     ]
    },
    {
     "ename": "NameError",
     "evalue": "name 'cus_res' is not defined",
     "output_type": "error",
     "traceback": [
      "\u001b[1;31m---------------------------------------------------------------------------\u001b[0m",
      "\u001b[1;31mNameError\u001b[0m                                 Traceback (most recent call last)",
      "Input \u001b[1;32mIn [3]\u001b[0m, in \u001b[0;36m<cell line: 35>\u001b[1;34m()\u001b[0m\n\u001b[0;32m     32\u001b[0m res\u001b[38;5;241m=\u001b[39mcustdata(soup)\n\u001b[0;32m     33\u001b[0m \u001b[38;5;28mprint\u001b[39m(res)\n\u001b[1;32m---> 35\u001b[0m data \u001b[38;5;241m=\u001b[39m {\u001b[38;5;124m'\u001b[39m\u001b[38;5;124mName\u001b[39m\u001b[38;5;124m'\u001b[39m: \u001b[43mcus_res\u001b[49m,\n\u001b[0;32m     36\u001b[0m         \u001b[38;5;124m'\u001b[39m\u001b[38;5;124mreview\u001b[39m\u001b[38;5;124m'\u001b[39m: rev_result}\n\u001b[0;32m     38\u001b[0m \u001b[38;5;66;03m# Create DataFrame\u001b[39;00m\n\u001b[0;32m     39\u001b[0m df \u001b[38;5;241m=\u001b[39m pd\u001b[38;5;241m.\u001b[39mDataFrame(data)\n",
      "\u001b[1;31mNameError\u001b[0m: name 'cus_res' is not defined"
     ]
    }
   ],
   "source": [
    "import requests\n",
    "from bs4 import BeautifulSoup\n",
    "\n",
    "HEADERS=({'User-Agent':\n",
    "            'Mozilla/5.0 (Windows NT 10.0; Win64; x64) \\\n",
    "            AppleWebKit/537.36 (KHTML, like Gecko) \\\n",
    "            Chrome/90.0.4430.212 Safari/537.36',\n",
    "            'Accept-Language': 'en-US, en;q=0.5'})\n",
    "\n",
    "def getdata(url):\n",
    "    r=requests.get(url,headers=HEADERS)\n",
    "    return r.text\n",
    "\n",
    "def htmldata(url):\n",
    "    html=getdata(url)\n",
    "    soup=BeautifulSoup(html,'html.parser')\n",
    "    return(soup)\n",
    "\n",
    "url =\"https://www.amazon.in/dp/B0B5ZMV9T9/ref=sspa_dk_detail_0?pd_rd_i=B0B5ZMV9T9&pd_rd_w=A2eWe&content-id=amzn1.sym.2575ab02-73ff-40ca-8d3a-4fbe87c5a28d&pf_rd_p=2575ab02-73ff-40ca-8d3a-4fbe87c5a28d&pf_rd_r=52QJDK4ER3GYKZGTBM7K&pd_rd_wg=7ZSjf&pd_rd_r=69bcc869-3910-4e2c-9be9-03ff5e475592&s=computers&sp_csd=d2lkZ2V0TmFtZT1zcF9kZXRhaWw&th=1\"\n",
    "\n",
    "soup=htmldata(url)\n",
    "\n",
    "def custdata(soup):\n",
    "    data_str=\"\"\n",
    "    clist=[]\n",
    "    for item in soup.find_all('span',class_=\"a-profile-name\"):\n",
    "        data_str=data_str + item.get_text()\n",
    "        clist.append(data_str)\n",
    "        data_str=\"\"\n",
    "    return clist\n",
    "\n",
    "res=custdata(soup)\n",
    "print(res)\n",
    "\n",
    "data = {'Name': res,\n",
    "        'review': rev_result}\n",
    "  \n",
    "# Create DataFrame\n",
    "df = pd.DataFrame(data)\n",
    "  \n",
    "# Save the output.\n",
    "df.to_csv('amazon_review.csv')\n",
    "    "
   ]
  },
  {
   "cell_type": "code",
   "execution_count": null,
   "id": "2f31bb62",
   "metadata": {},
   "outputs": [],
   "source": []
  }
 ],
 "metadata": {
  "kernelspec": {
   "display_name": "Python 3 (ipykernel)",
   "language": "python",
   "name": "python3"
  },
  "language_info": {
   "codemirror_mode": {
    "name": "ipython",
    "version": 3
   },
   "file_extension": ".py",
   "mimetype": "text/x-python",
   "name": "python",
   "nbconvert_exporter": "python",
   "pygments_lexer": "ipython3",
   "version": "3.9.2"
  }
 },
 "nbformat": 4,
 "nbformat_minor": 5
}
